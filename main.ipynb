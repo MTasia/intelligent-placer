{
 "cells": [
  {
   "cell_type": "code",
   "execution_count": 11,
   "metadata": {
    "collapsed": true,
    "pycharm": {
     "name": "#%%\n"
    }
   },
   "outputs": [],
   "source": [
    "from copy import copy\n",
    "import cv2 as cv\n",
    "import numpy as np"
   ]
  },
  {
   "cell_type": "markdown",
   "source": [],
   "metadata": {
    "collapsed": false,
    "pycharm": {
     "name": "#%% md\n"
    }
   }
  },
  {
   "cell_type": "code",
   "execution_count": 12,
   "outputs": [],
   "source": [
    "def get_poly(path):\n",
    "    with open(path) as f:\n",
    "        n = int(f.readline())\n",
    "        poly = []\n",
    "        for i in range(n):\n",
    "            x, y = f.readline().split(' ')\n",
    "            poly.append([int(x), int(y)])\n",
    "    return poly"
   ],
   "metadata": {
    "collapsed": false,
    "pycharm": {
     "name": "#%%\n"
    }
   }
  },
  {
   "cell_type": "code",
   "execution_count": 13,
   "outputs": [],
   "source": [
    "def get_mask(image):\n",
    "    line, post = cv.findContours(cv.Canny(cv.medianBlur(cv.cvtColor(image, cv.COLOR_BGR2GRAY), 19), 0, 5),\n",
    "                                 cv.RETR_TREE, cv.CHAIN_APPROX_NONE)\n",
    "    need_list = sorted(line, key=lambda tup: max(tup[:, 0, 0]) + max(tup[:, 0, 1]) - min(tup[:, 0, 0]) - min(tup[:, 0, 1]),\n",
    "               reverse=True)[0]\n",
    "    max(need_list[:, 0, 0])\n",
    "    need_mask = np.zeros(image.shape, dtype=np.uint8)\n",
    "    cv.drawContours(image=need_mask, contours=[need_list], color=(255, 255, 255), thickness=cv.FILLED, contourIdx=0)\n",
    "    return need_mask"
   ],
   "metadata": {
    "collapsed": false,
    "pycharm": {
     "name": "#%%\n"
    }
   }
  },
  {
   "cell_type": "code",
   "execution_count": 14,
   "outputs": [],
   "source": [
    "class Form:\n",
    "    def __init__(self, name_def, img_def, start_img_def):\n",
    "        self.name = name_def\n",
    "        self.img = cv.resize(img_def, (1000, 1000))\n",
    "        self.data = []\n",
    "        self.start_img = start_img_def\n",
    "        x, y = np.where(img_def[:, :, 0] != 0)\n",
    "\n",
    "    def get_map(self, e: int):\n",
    "        width_map = 1000 // e\n",
    "        height_map = 1000 // e\n",
    "\n",
    "        need_map = np.zeros((height_map, width_map))\n",
    "        for i in range(0, height_map):\n",
    "            for j in range(0, width_map):\n",
    "                if len(np.where(self.img[e * i: e * (i + 1), e * j: e * (j + 1)] != 0)[0]) == 0:\n",
    "                    need_map[i, j] = 0\n",
    "                else:\n",
    "                    need_map[i, j] = 255\n",
    "\n",
    "        return need_map\n",
    "\n",
    "    def detection(self, src):\n",
    "        orb = cv.ORB_create()\n",
    "        a1, b1 = orb.detectAndCompute(src, None)\n",
    "        a2, b2 = orb.detectAndCompute(self.start_img, None)\n",
    "        matches = cv.BFMatcher().knnMatch(b1, b2, k=2)\n",
    "\n",
    "        need_matches = []\n",
    "        for m, n in matches:\n",
    "            if m.distance < 0.8 * n.distance:\n",
    "                need_matches.append([m])\n",
    "\n",
    "        return len(need_matches)\n",
    "\n",
    "    def get_image(self):\n",
    "        return self.img\n",
    "\n",
    "    def get_size(self):\n",
    "        return min(self.img[:, 0, 0].size, self.img[0, :, 0].size), max(self.img[:, 0, 0].size, self.img[0, :, 0].size)\n"
   ],
   "metadata": {
    "collapsed": false,
    "pycharm": {
     "name": "#%%\n"
    }
   }
  },
  {
   "cell_type": "code",
   "execution_count": 15,
   "outputs": [],
   "source": [
    "def get_objects():\n",
    "    photos = []\n",
    "    for i in range(1, 10):\n",
    "        photos.append('photo' + str(i))\n",
    "    elements = {}\n",
    "    for name in photos:\n",
    "        start_img = cv.imread('./photos/objects/' + name + '.jpg')\n",
    "        need_mask = get_mask(start_img)[:, :, 0]\n",
    "        x, y = np.where(need_mask != 0)\n",
    "        u = min(x)\n",
    "        r = max(y)\n",
    "        b = max(x)\n",
    "        l = min(y)\n",
    "        start_img = start_img[u:b, l:r]\n",
    "        need_mask = start_img[30: start_img[:, 0, 0].size - 30, 30: start_img[0, :, 0].size - 30, :]\n",
    "        line, post = cv.findContours(\n",
    "            cv.Canny(cv.GaussianBlur(src=need_mask, ksize=(9, 9), sigmaX=10, dst=50), 10, 100, apertureSize=3),\n",
    "            cv.RETR_EXTERNAL, cv.CHAIN_APPROX_TC89_KCOS)\n",
    "        need_mask = np.zeros(start_img.shape, dtype=np.uint8)\n",
    "        cv.drawContours(image=need_mask, contours=line, color=(255, 255, 255), thickness=cv.FILLED, contourIdx=-1)\n",
    "        elements[name] = Form(name_def=name, img_def=need_mask, start_img_def=start_img)\n",
    "    return elements"
   ],
   "metadata": {
    "collapsed": false,
    "pycharm": {
     "name": "#%%\n"
    }
   }
  },
  {
   "cell_type": "code",
   "execution_count": 16,
   "outputs": [],
   "source": [
    "def list_paper(image):\n",
    "    mask = get_mask(image)[:, :, 0]\n",
    "    x, y = np.where(mask != 0)\n",
    "    u = min(x)\n",
    "    r = max(y)\n",
    "    b = max(x)\n",
    "    l = min(y)\n",
    "    image = image[u:b, l:r]\n",
    "    return image\n",
    "\n",
    "\n",
    "def detection(imfge):\n",
    "    paper = list_paper(imfge)[30: list_paper(imfge)[:, 0, 0].size - 30, 30: list_paper(imfge)[0, :, 0].size - 30, :]\n",
    "    ker = cv.getStructuringElement(cv.MORPH_RECT, (35, 35))\n",
    "    can = cv.Canny(paper, 150, 255)\n",
    "    to_close = cv.morphologyEx(can, cv.MORPH_CLOSE, ker)\n",
    "    need_cont = cv.findContours(to_close, cv.RETR_EXTERNAL, cv.CHAIN_APPROX_SIMPLE)[0]\n",
    "    cv.drawContours(to_close, need_cont, -1, (255, 255, 255), -1)\n",
    "    res = []\n",
    "    for cont in need_cont:\n",
    "        image = np.zeros(to_close.shape, dtype=np.uint8)\n",
    "        cv.drawContours(image, [cont], -1, (255, 255, 255), -1)\n",
    "        x, y = np.where(image != 0)\n",
    "        image = paper[min(x): max(x), min(y): max(y)]\n",
    "        res.append(image)\n",
    "    return res"
   ],
   "metadata": {
    "collapsed": false,
    "pycharm": {
     "name": "#%%\n"
    }
   }
  },
  {
   "cell_type": "code",
   "execution_count": 17,
   "outputs": [],
   "source": [
    "\n",
    "def try_insert(st_x: int, st_y: int, list: np.array, img: np.array):\n",
    "    copies = copy(list)\n",
    "    for y in range(st_y, st_y + img[0, :].size):\n",
    "        for x in range(st_x, st_x + img[:, 0].size):\n",
    "            if copies[x, y] == 0 and img[x - st_x, y - st_y] != 0:\n",
    "                return [], False\n",
    "            if copies[x, y] != 0 and img[x - st_x, y - st_y] != 0:\n",
    "                copies[x, y] = 0\n",
    "    return copies, True\n",
    "\n",
    "\n",
    "def find(elements: np.array, list: np.array, st_x: int, st_y: int):\n",
    "    if len(elements) == 0:\n",
    "        return True\n",
    "    while list[0, :].size - st_y > elements[0][0, :].size or list[:, 0].size - st_x > elements[0][:, 0].size:\n",
    "        needs, res = try_insert(st_x, st_y, list, elements[0])\n",
    "        if res:\n",
    "            res = find(elements[1:], needs, 0, 0)\n",
    "            if res:\n",
    "                return True\n",
    "            else:\n",
    "                if list[:, 0].size - st_x > elements[0][:, 0].size:\n",
    "                    st_x += 1\n",
    "                else:\n",
    "                    st_y += 1\n",
    "        else:\n",
    "            if list[:, 0].size - st_x > elements[0][:, 0].size:\n",
    "                st_x += 1\n",
    "            else:\n",
    "                st_x = 0\n",
    "                st_y += 1\n",
    "    return False"
   ],
   "metadata": {
    "collapsed": false,
    "pycharm": {
     "name": "#%%\n"
    }
   }
  },
  {
   "cell_type": "code",
   "execution_count": 18,
   "outputs": [],
   "source": [
    "def algorithm(elements: np.array, poly: np.array, size):\n",
    "    llist = np.zeros((size[0], size[1]))\n",
    "    cv.drawContours(llist, [poly], -1, 255, -1)\n",
    "    x, y = np.where(llist != 0)\n",
    "    llist = llist[min(x): max(x), min(y): max(y)]\n",
    "    return find(elements, llist, 0, 0)\n",
    "\n",
    "\n",
    "def intelligent_placer(img_path: str, poly: np.array):\n",
    "    objects = get_objects()\n",
    "    meets = {}\n",
    "    for elem in objects:\n",
    "        meet = []\n",
    "        for i in detection(cv.imread(img_path)):\n",
    "            if i.size != 0 and i[:, 0, 0].size * i[0, :, 0].size >= 8000:\n",
    "                meet.append(objects[elem].detection(i))\n",
    "        meets[elem] = meet\n",
    "    needs = []\n",
    "    for i in range(len(meets[next(iter(meets))])):\n",
    "        need = next(iter(meets))\n",
    "        for meet in meets:\n",
    "            if meets[meet][i] > meets[need][i]:\n",
    "                need = meet\n",
    "        if meets[need][i] != 0:\n",
    "            meets.pop(need)\n",
    "            needs.append(need)\n",
    "    elements = []\n",
    "    size = np.zeros(2, dtype=int)\n",
    "    for i in needs:\n",
    "        need_map = objects[i].get_map(10)\n",
    "        size[0], size[1] = need_map[:, 0].size, need_map[0, :].size\n",
    "        x, y = np.where(need_map != 0)\n",
    "        elements.append(need_map[min(x): max(x), min(y): max(y)])\n",
    "    for i in range(len(poly)):\n",
    "        poly[i, 0] = int(poly[i, 0] * (size[0] / 10))\n",
    "        poly[i, 1] = int(poly[i, 1] * (size[1] / 10))\n",
    "\n",
    "    return algorithm(elements, poly, size)"
   ],
   "metadata": {
    "collapsed": false,
    "pycharm": {
     "name": "#%%\n"
    }
   }
  },
  {
   "cell_type": "code",
   "execution_count": 19,
   "outputs": [],
   "source": [
    "def print_ans(answer):\n",
    "    if answer:\n",
    "        print(\"yes\")\n",
    "    else:\n",
    "        print(\"no\")"
   ],
   "metadata": {
    "collapsed": false,
    "pycharm": {
     "name": "#%%\n"
    }
   }
  },
  {
   "cell_type": "markdown",
   "source": [
    "i может принемать любые знаения от 0 до 7"
   ],
   "metadata": {
    "collapsed": false,
    "pycharm": {
     "name": "#%% md\n"
    }
   }
  },
  {
   "cell_type": "code",
   "execution_count": 10,
   "outputs": [
    {
     "name": "stdout",
     "output_type": "stream",
     "text": [
      "test number 3\n",
      "yes\n",
      "test number 1\n",
      "yes\n"
     ]
    }
   ],
   "source": [
    "for i in range(1, 4):\n",
    "    img_path = 'photos/tests/test' + str(i) + '.jpg'\n",
    "    poly_point = get_poly('photos/tests/poly' + str(i) + '.txt')\n",
    "    poly = np.array(poly_point)\n",
    "    ans = intelligent_placer(img_path, poly)\n",
    "    print(\"test number \" + str(i))\n",
    "    print_ans(ans)"
   ],
   "metadata": {
    "collapsed": false,
    "pycharm": {
     "name": "#%%\n"
    }
   }
  }
 ],
 "metadata": {
  "kernelspec": {
   "display_name": "Python 3",
   "language": "python",
   "name": "python3"
  },
  "language_info": {
   "codemirror_mode": {
    "name": "ipython",
    "version": 2
   },
   "file_extension": ".py",
   "mimetype": "text/x-python",
   "name": "python",
   "nbconvert_exporter": "python",
   "pygments_lexer": "ipython2",
   "version": "2.7.6"
  }
 },
 "nbformat": 4,
 "nbformat_minor": 0
}